{
  "nbformat": 4,
  "nbformat_minor": 0,
  "metadata": {
    "colab": {
      "name": "PBP_functions",
      "provenance": [],
      "authorship_tag": "ABX9TyP/UPrDxY0xLE0qBY5J6O/g",
      "include_colab_link": true
    },
    "kernelspec": {
      "name": "python3",
      "display_name": "Python 3"
    },
    "language_info": {
      "name": "python"
    }
  },
  "cells": [
    {
      "cell_type": "markdown",
      "metadata": {
        "id": "view-in-github",
        "colab_type": "text"
      },
      "source": [
        "<a href=\"https://colab.research.google.com/github/fmathews11/College_Basketball_Functions/blob/main/PBP_functions.ipynb\" target=\"_parent\"><img src=\"https://colab.research.google.com/assets/colab-badge.svg\" alt=\"Open In Colab\"/></a>"
      ]
    },
    {
      "cell_type": "code",
      "execution_count": null,
      "metadata": {
        "id": "OTPmG3Iu398q"
      },
      "outputs": [],
      "source": [
        "!pip install kenpompy\n",
        "!pip install mechanicalsoup\n",
        "import mechanicalsoup,pandas as pd,numpy as np, warnings,seaborn as sns, matplotlib.pyplot as plt\n",
        "from bs4 import BeautifulSoup\n",
        "from kenpompy.utils import login\n",
        "warnings.filterwarnings(\"ignore\")"
      ]
    },
    {
      "cell_type": "code",
      "source": [
        "url = 'https://www.espn.com/mens-college-basketball/playbyplay?gameId='\n",
        "game_id = 401364452\n",
        "url = url + str(game_id)\n",
        "browser = mechanicalsoup.StatefulBrowser()\n",
        "browser.open(url)\n",
        "raw_shotlist = str(browser.get_current_page()).split('homeaway')[1:]"
      ],
      "metadata": {
        "id": "dHgm_fPV4If5"
      },
      "execution_count": 19,
      "outputs": []
    },
    {
      "cell_type": "code",
      "source": [
        "away_shots = [i for i in raw_shotlist if i[2:6] == 'away']\n",
        "home_shots = [i for i in raw_shotlist if i[2:6] == 'home']"
      ],
      "metadata": {
        "id": "SxnR9shy4Iwa"
      },
      "execution_count": 32,
      "outputs": []
    },
    {
      "cell_type": "code",
      "source": [
        "final_dict = {key:[] for key in ('team','top','left','result')}\n",
        "for idx,i in enumerate(away_shots):\n",
        "  try:\n",
        "    final_dict['left'].append(away_shots[idx].split('left')[1][1:6])\n",
        "    final_dict['top'].append(away_shots[idx].split('top')[1][1:6])\n",
        "    final_dict['result'].append(away_shots[idx].split('class')[2][2:8])\n",
        "    final_dict['team'].append('away')\n",
        "  except:\n",
        "    continue\n",
        "for idx,i in enumerate(home_shots):\n",
        "  try:\n",
        "    final_dict['left'].append(home_shots[idx].split('left')[1][1:6])\n",
        "    final_dict['top'].append(home_shots[idx].split('top')[1][1:6])\n",
        "    final_dict['result'].append(home_shots[idx].split('class')[2][2:8])\n",
        "    final_dict['team'].append('home')\n",
        "  except:\n",
        "    continue\n",
        "df = pd.DataFrame(final_dict)"
      ],
      "metadata": {
        "id": "6tK4wqJ-4I8S"
      },
      "execution_count": 92,
      "outputs": []
    },
    {
      "cell_type": "code",
      "source": [
        "df.top = df.top.replace(\"%\",\"\",regex=True)\n",
        "df.left = df.left.replace(\"%\",\"\",regex=True)\n",
        "df.result = df.result.map(str.strip)\n",
        "df.result = df.result.replace('\"',\"\",regex = True)\n",
        "df = df[(df.result.str.contains('made'))|(df.result.str.contains('missed'))]"
      ],
      "metadata": {
        "colab": {
          "base_uri": "https://localhost:8080/",
          "height": 423
        },
        "id": "0ICaAIR74JDV",
        "outputId": "6155f6cf-9b75-4897-c6b1-b6f812efeead"
      },
      "execution_count": 96,
      "outputs": [
        {
          "output_type": "execute_result",
          "data": {
            "text/html": [
              "\n",
              "  <div id=\"df-44b4e8f8-a76f-4085-bfce-898b5e1a155c\">\n",
              "    <div class=\"colab-df-container\">\n",
              "      <div>\n",
              "<style scoped>\n",
              "    .dataframe tbody tr th:only-of-type {\n",
              "        vertical-align: middle;\n",
              "    }\n",
              "\n",
              "    .dataframe tbody tr th {\n",
              "        vertical-align: top;\n",
              "    }\n",
              "\n",
              "    .dataframe thead th {\n",
              "        text-align: right;\n",
              "    }\n",
              "</style>\n",
              "<table border=\"1\" class=\"dataframe\">\n",
              "  <thead>\n",
              "    <tr style=\"text-align: right;\">\n",
              "      <th></th>\n",
              "      <th>team</th>\n",
              "      <th>top</th>\n",
              "      <th>left</th>\n",
              "      <th>result</th>\n",
              "    </tr>\n",
              "  </thead>\n",
              "  <tbody>\n",
              "    <tr>\n",
              "      <th>0</th>\n",
              "      <td>away</td>\n",
              "      <td>36.0</td>\n",
              "      <td>5.555</td>\n",
              "      <td>made</td>\n",
              "    </tr>\n",
              "    <tr>\n",
              "      <th>1</th>\n",
              "      <td>away</td>\n",
              "      <td>48.0</td>\n",
              "      <td>7.777</td>\n",
              "      <td>made</td>\n",
              "    </tr>\n",
              "    <tr>\n",
              "      <th>2</th>\n",
              "      <td>away</td>\n",
              "      <td>82.0</td>\n",
              "      <td>26.66</td>\n",
              "      <td>missed</td>\n",
              "    </tr>\n",
              "    <tr>\n",
              "      <th>3</th>\n",
              "      <td>away</td>\n",
              "      <td>48.0</td>\n",
              "      <td>17.77</td>\n",
              "      <td>missed</td>\n",
              "    </tr>\n",
              "    <tr>\n",
              "      <th>4</th>\n",
              "      <td>away</td>\n",
              "      <td>94.0</td>\n",
              "      <td>3.333</td>\n",
              "      <td>missed</td>\n",
              "    </tr>\n",
              "    <tr>\n",
              "      <th>...</th>\n",
              "      <td>...</td>\n",
              "      <td>...</td>\n",
              "      <td>...</td>\n",
              "      <td>...</td>\n",
              "    </tr>\n",
              "    <tr>\n",
              "      <th>97</th>\n",
              "      <td>home</td>\n",
              "      <td>76.0</td>\n",
              "      <td>94.66</td>\n",
              "      <td>made</td>\n",
              "    </tr>\n",
              "    <tr>\n",
              "      <th>98</th>\n",
              "      <td>home</td>\n",
              "      <td>54.0</td>\n",
              "      <td>91.33</td>\n",
              "      <td>missed</td>\n",
              "    </tr>\n",
              "    <tr>\n",
              "      <th>99</th>\n",
              "      <td>home</td>\n",
              "      <td>54.0</td>\n",
              "      <td>91.33</td>\n",
              "      <td>missed</td>\n",
              "    </tr>\n",
              "    <tr>\n",
              "      <th>100</th>\n",
              "      <td>home</td>\n",
              "      <td>90.0</td>\n",
              "      <td>75.77</td>\n",
              "      <td>made</td>\n",
              "    </tr>\n",
              "    <tr>\n",
              "      <th>102</th>\n",
              "      <td>home</td>\n",
              "      <td>;\\n\\tes</td>\n",
              "      <td>&gt;&lt;h3&gt;</td>\n",
              "      <td>made&gt;</td>\n",
              "    </tr>\n",
              "  </tbody>\n",
              "</table>\n",
              "<p>101 rows × 4 columns</p>\n",
              "</div>\n",
              "      <button class=\"colab-df-convert\" onclick=\"convertToInteractive('df-44b4e8f8-a76f-4085-bfce-898b5e1a155c')\"\n",
              "              title=\"Convert this dataframe to an interactive table.\"\n",
              "              style=\"display:none;\">\n",
              "        \n",
              "  <svg xmlns=\"http://www.w3.org/2000/svg\" height=\"24px\"viewBox=\"0 0 24 24\"\n",
              "       width=\"24px\">\n",
              "    <path d=\"M0 0h24v24H0V0z\" fill=\"none\"/>\n",
              "    <path d=\"M18.56 5.44l.94 2.06.94-2.06 2.06-.94-2.06-.94-.94-2.06-.94 2.06-2.06.94zm-11 1L8.5 8.5l.94-2.06 2.06-.94-2.06-.94L8.5 2.5l-.94 2.06-2.06.94zm10 10l.94 2.06.94-2.06 2.06-.94-2.06-.94-.94-2.06-.94 2.06-2.06.94z\"/><path d=\"M17.41 7.96l-1.37-1.37c-.4-.4-.92-.59-1.43-.59-.52 0-1.04.2-1.43.59L10.3 9.45l-7.72 7.72c-.78.78-.78 2.05 0 2.83L4 21.41c.39.39.9.59 1.41.59.51 0 1.02-.2 1.41-.59l7.78-7.78 2.81-2.81c.8-.78.8-2.07 0-2.86zM5.41 20L4 18.59l7.72-7.72 1.47 1.35L5.41 20z\"/>\n",
              "  </svg>\n",
              "      </button>\n",
              "      \n",
              "  <style>\n",
              "    .colab-df-container {\n",
              "      display:flex;\n",
              "      flex-wrap:wrap;\n",
              "      gap: 12px;\n",
              "    }\n",
              "\n",
              "    .colab-df-convert {\n",
              "      background-color: #E8F0FE;\n",
              "      border: none;\n",
              "      border-radius: 50%;\n",
              "      cursor: pointer;\n",
              "      display: none;\n",
              "      fill: #1967D2;\n",
              "      height: 32px;\n",
              "      padding: 0 0 0 0;\n",
              "      width: 32px;\n",
              "    }\n",
              "\n",
              "    .colab-df-convert:hover {\n",
              "      background-color: #E2EBFA;\n",
              "      box-shadow: 0px 1px 2px rgba(60, 64, 67, 0.3), 0px 1px 3px 1px rgba(60, 64, 67, 0.15);\n",
              "      fill: #174EA6;\n",
              "    }\n",
              "\n",
              "    [theme=dark] .colab-df-convert {\n",
              "      background-color: #3B4455;\n",
              "      fill: #D2E3FC;\n",
              "    }\n",
              "\n",
              "    [theme=dark] .colab-df-convert:hover {\n",
              "      background-color: #434B5C;\n",
              "      box-shadow: 0px 1px 3px 1px rgba(0, 0, 0, 0.15);\n",
              "      filter: drop-shadow(0px 1px 2px rgba(0, 0, 0, 0.3));\n",
              "      fill: #FFFFFF;\n",
              "    }\n",
              "  </style>\n",
              "\n",
              "      <script>\n",
              "        const buttonEl =\n",
              "          document.querySelector('#df-44b4e8f8-a76f-4085-bfce-898b5e1a155c button.colab-df-convert');\n",
              "        buttonEl.style.display =\n",
              "          google.colab.kernel.accessAllowed ? 'block' : 'none';\n",
              "\n",
              "        async function convertToInteractive(key) {\n",
              "          const element = document.querySelector('#df-44b4e8f8-a76f-4085-bfce-898b5e1a155c');\n",
              "          const dataTable =\n",
              "            await google.colab.kernel.invokeFunction('convertToInteractive',\n",
              "                                                     [key], {});\n",
              "          if (!dataTable) return;\n",
              "\n",
              "          const docLinkHtml = 'Like what you see? Visit the ' +\n",
              "            '<a target=\"_blank\" href=https://colab.research.google.com/notebooks/data_table.ipynb>data table notebook</a>'\n",
              "            + ' to learn more about interactive tables.';\n",
              "          element.innerHTML = '';\n",
              "          dataTable['output_type'] = 'display_data';\n",
              "          await google.colab.output.renderOutput(dataTable, element);\n",
              "          const docLink = document.createElement('div');\n",
              "          docLink.innerHTML = docLinkHtml;\n",
              "          element.appendChild(docLink);\n",
              "        }\n",
              "      </script>\n",
              "    </div>\n",
              "  </div>\n",
              "  "
            ],
            "text/plain": [
              "     team      top   left  result\n",
              "0    away     36.0  5.555    made\n",
              "1    away     48.0  7.777    made\n",
              "2    away     82.0  26.66  missed\n",
              "3    away     48.0  17.77  missed\n",
              "4    away     94.0  3.333  missed\n",
              "..    ...      ...    ...     ...\n",
              "97   home     76.0  94.66    made\n",
              "98   home     54.0  91.33  missed\n",
              "99   home     54.0  91.33  missed\n",
              "100  home     90.0  75.77    made\n",
              "102  home  ;\\n\\tes  ><h3>   made>\n",
              "\n",
              "[101 rows x 4 columns]"
            ]
          },
          "metadata": {},
          "execution_count": 96
        }
      ]
    },
    {
      "cell_type": "code",
      "source": [
        "away_shots[55]"
      ],
      "metadata": {
        "colab": {
          "base_uri": "https://localhost:8080/",
          "height": 36
        },
        "id": "-4x7SZd44JKr",
        "outputId": "3032aafe-4d7a-4440-c8ef-a02654e2ee46"
      },
      "execution_count": 82,
      "outputs": [
        {
          "output_type": "execute_result",
          "data": {
            "application/vnd.google.colaboratory.intrinsic+json": {
              "type": "string"
            },
            "text/plain": [
              "'=\"away\" data-playerid=\"4433155\"><a>Clifford Omoruyi</a></li><li data-'"
            ]
          },
          "metadata": {},
          "execution_count": 82
        }
      ]
    },
    {
      "cell_type": "code",
      "source": [
        ""
      ],
      "metadata": {
        "id": "psu4FzKq4JQ6"
      },
      "execution_count": null,
      "outputs": []
    }
  ]
}