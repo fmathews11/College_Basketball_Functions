{
  "nbformat": 4,
  "nbformat_minor": 0,
  "metadata": {
    "colab": {
      "name": "Untitled0.ipynb",
      "provenance": [],
      "authorship_tag": "ABX9TyOdiZTWY3Gg8enmjdEbA0va",
      "include_colab_link": true
    },
    "kernelspec": {
      "name": "python3",
      "display_name": "Python 3"
    },
    "language_info": {
      "name": "python"
    }
  },
  "cells": [
    {
      "cell_type": "markdown",
      "metadata": {
        "id": "view-in-github",
        "colab_type": "text"
      },
      "source": [
        "<a href=\"https://colab.research.google.com/github/fmathews11/College_Basketball_Functions/blob/main/Pulling_Gameplan_From_Kenpom.ipynb\" target=\"_parent\"><img src=\"https://colab.research.google.com/assets/colab-badge.svg\" alt=\"Open In Colab\"/></a>"
      ]
    },
    {
      "cell_type": "code",
      "execution_count": null,
      "metadata": {
        "id": "5ly13qoyxa98"
      },
      "outputs": [],
      "source": [
        "!pip install kenpompy\n",
        "!pip install mechanicalsoup\n",
        "import mechanicalsoup,pandas as pd,numpy as np\n",
        "from bs4 import BeautifulSoup\n",
        "from kenpompy.utils import login"
      ]
    },
    {
      "cell_type": "code",
      "source": [
        "browser = login()\n",
        "url = 'https://kenpom.com/gameplan.php?team=Purdue'\n",
        "browser.open(url)\n",
        "raw_source = browser.get_current_page()\n",
        "table = raw_source.find_all('table')\n",
        "df = pd.read_html(str(table[0]))[0]\n",
        "df_ = df.copy()"
      ],
      "metadata": {
        "id": "AeS4gJuox5TK"
      },
      "execution_count": 35,
      "outputs": []
    },
    {
      "cell_type": "code",
      "source": [
        "#Let's Clean it up\n",
        "df = df_.copy()\n",
        "df.columns = [i[0] +  \"_\" +i[1] for i in df.columns.tolist()]\n",
        "df = df.drop([df.columns[i] for i in [1,7,12,14,18]],axis = 1)\n",
        "# for idx, i in enumerate(df.columns.tolist()):\n",
        "#   print(idx,i)\n",
        "[i[:-2] for i in df.columns.tolist() if \".\" in i]\n",
        "for i in df.columns:\n",
        "  if \".\" in i:\n",
        "    df = df.rename(columns = {i:i[:-2]})\n",
        "for i in df.columns:\n",
        "  if \"Unnamed\" in i:\n",
        "    df = df.rename(columns = {i:i.split()[-1]})\n",
        "for i in df.columns:\n",
        "  if \"level\" in i:\n",
        "    df = df.rename(columns = {i:i.split(\"_\")[-1]})\n",
        "df = df.rename(columns =  {df.columns[1]:\"Opponent\",df.columns[3]:\"Location\"})\n",
        "result_vals = [i for i in df.Result.tolist()]\n",
        "result_vals\n",
        "#df.Result = [str(i[0]) for i in result_vals]\n",
        "result_vals"
      ],
      "metadata": {
        "colab": {
          "base_uri": "https://localhost:8080/"
        },
        "id": "yFazR8F_x5k1",
        "outputId": "29ba63f8-12aa-4652-dfc8-022c1614c110"
      },
      "execution_count": 59,
      "outputs": [
        {
          "output_type": "execute_result",
          "data": {
            "text/plain": [
              "['W, 96-67',\n",
              " 'W, 92-67',\n",
              " 'W, 96-52',\n",
              " 'W, 93-84',\n",
              " 'W, 80-74',\n",
              " 'W, 97-40',\n",
              " 'W, 93-65',\n",
              " 'W, 77-70',\n",
              " 'L, 70-68',\n",
              " 'W, 82-72',\n",
              " 'W, 77-48',\n",
              " 'W, 79-59',\n",
              " 'W, 104-90',\n",
              " 'L, 74-69',\n",
              " 'W, 74-67',\n",
              " 'W, 92-65',\n",
              " 'W, 96-88',\n",
              " 'L, 68-65',\n",
              " 'W, 80-60',\n",
              " 'W, 83-73',\n",
              " 'W, 81-78',\n",
              " 'W, 88-73',\n",
              " 'W, 82-76',\n",
              " 'W, 84-68',\n",
              " 'L, 82-58',\n",
              " 'Correlations (R x 100)',\n",
              " nan,\n",
              " nan,\n",
              " nan,\n",
              " nan]"
            ]
          },
          "metadata": {},
          "execution_count": 59
        }
      ]
    },
    {
      "cell_type": "code",
      "source": [
        ""
      ],
      "metadata": {
        "id": "Cc8aPV5yx5qb"
      },
      "execution_count": null,
      "outputs": []
    },
    {
      "cell_type": "code",
      "source": [
        ""
      ],
      "metadata": {
        "id": "DT7k3u6bx5wS"
      },
      "execution_count": null,
      "outputs": []
    },
    {
      "cell_type": "code",
      "source": [
        ""
      ],
      "metadata": {
        "id": "KxR4y1SZx51b"
      },
      "execution_count": null,
      "outputs": []
    },
    {
      "cell_type": "code",
      "source": [
        ""
      ],
      "metadata": {
        "id": "f6ByemDDx55Z"
      },
      "execution_count": null,
      "outputs": []
    },
    {
      "cell_type": "code",
      "source": [
        ""
      ],
      "metadata": {
        "id": "ChBWZreXx59e"
      },
      "execution_count": null,
      "outputs": []
    }
  ]
}